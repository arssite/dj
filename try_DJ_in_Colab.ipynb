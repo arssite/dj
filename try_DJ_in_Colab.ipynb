{
  "nbformat": 4,
  "nbformat_minor": 0,
  "metadata": {
    "colab": {
      "provenance": [],
      "gpuType": "V28",
      "authorship_tag": "ABX9TyPI/swIjhX/8BFxcEr2Js4U",
      "include_colab_link": true
    },
    "kernelspec": {
      "name": "python3",
      "display_name": "Python 3"
    },
    "language_info": {
      "name": "python"
    },
    "accelerator": "TPU"
  },
  "cells": [
    {
      "cell_type": "markdown",
      "metadata": {
        "id": "view-in-github",
        "colab_type": "text"
      },
      "source": [
        "<a href=\"https://colab.research.google.com/github/arssite/dj/blob/main/try_DJ_in_Colab.ipynb\" target=\"_parent\"><img src=\"https://colab.research.google.com/assets/colab-badge.svg\" alt=\"Open In Colab\"/></a>"
      ]
    },
    {
      "cell_type": "code",
      "source": [
        "!pip install django\n",
        "!pip install pyngrok\n"
      ],
      "metadata": {
        "colab": {
          "base_uri": "https://localhost:8080/"
        },
        "id": "EEJ64LjaE2Va",
        "outputId": "7b821f61-1dd6-4ea5-9458-f5bfa183a12c"
      },
      "execution_count": 1,
      "outputs": [
        {
          "output_type": "stream",
          "name": "stdout",
          "text": [
            "Collecting django\n",
            "  Downloading Django-5.0.6-py3-none-any.whl (8.2 MB)\n",
            "\u001b[2K     \u001b[90m━━━━━━━━━━━━━━━━━━━━━━━━━━━━━━━━━━━━━━━━\u001b[0m \u001b[32m8.2/8.2 MB\u001b[0m \u001b[31m33.1 MB/s\u001b[0m eta \u001b[36m0:00:00\u001b[0m\n",
            "\u001b[?25hCollecting asgiref<4,>=3.7.0 (from django)\n",
            "  Downloading asgiref-3.8.1-py3-none-any.whl (23 kB)\n",
            "Requirement already satisfied: sqlparse>=0.3.1 in /usr/local/lib/python3.10/dist-packages (from django) (0.5.0)\n",
            "Requirement already satisfied: typing-extensions>=4 in /usr/local/lib/python3.10/dist-packages (from asgiref<4,>=3.7.0->django) (4.12.2)\n",
            "Installing collected packages: asgiref, django\n",
            "Successfully installed asgiref-3.8.1 django-5.0.6\n",
            "Collecting pyngrok\n",
            "  Downloading pyngrok-7.1.6-py3-none-any.whl (22 kB)\n",
            "Requirement already satisfied: PyYAML>=5.1 in /usr/local/lib/python3.10/dist-packages (from pyngrok) (6.0.1)\n",
            "Installing collected packages: pyngrok\n",
            "Successfully installed pyngrok-7.1.6\n"
          ]
        }
      ]
    },
    {
      "cell_type": "code",
      "source": [
        "import os\n",
        "from pyngrok import ngrok\n",
        "\n",
        "ngrok.set_auth_token('2iP8ZBEl2VpisE57zLtSYWUYObS_3UsSyxjKFcCyJy5zBHTyR')\n",
        "\n",
        "!django-admin startproject myproject\n",
        "os.chdir('myproject')\n",
        "!python manage.py startapp myapp"
      ],
      "metadata": {
        "colab": {
          "base_uri": "https://localhost:8080/"
        },
        "id": "juDsxfovI-07",
        "outputId": "94831c9d-1b83-4db4-e1ba-86a1626d9fac"
      },
      "execution_count": 2,
      "outputs": [
        {
          "output_type": "stream",
          "name": "stdout",
          "text": []
        }
      ]
    },
    {
      "cell_type": "code",
      "source": [
        "!echo \"from django.contrib.auth import get_user_model; User = get_user_model(); User.objects.create_superuser('admin', 'admin@example.com', 'adminpass')\" | python manage.py shell\n"
      ],
      "metadata": {
        "id": "54UvP3vSERU6",
        "colab": {
          "base_uri": "https://localhost:8080/"
        },
        "outputId": "5782ac2e-c9b6-441b-d598-4f9aa44d2fe9"
      },
      "execution_count": 3,
      "outputs": [
        {
          "output_type": "stream",
          "name": "stdout",
          "text": [
            "Traceback (most recent call last):\n",
            "  File \"/usr/local/lib/python3.10/dist-packages/django/db/backends/utils.py\", line 105, in _execute\n",
            "    return self.cursor.execute(sql, params)\n",
            "  File \"/usr/local/lib/python3.10/dist-packages/django/db/backends/sqlite3/base.py\", line 329, in execute\n",
            "    return super().execute(query, params)\n",
            "sqlite3.OperationalError: no such table: auth_user\n",
            "\n",
            "The above exception was the direct cause of the following exception:\n",
            "\n",
            "Traceback (most recent call last):\n",
            "  File \"/content/myproject/manage.py\", line 22, in <module>\n",
            "    main()\n",
            "  File \"/content/myproject/manage.py\", line 18, in main\n",
            "    execute_from_command_line(sys.argv)\n",
            "  File \"/usr/local/lib/python3.10/dist-packages/django/core/management/__init__.py\", line 442, in execute_from_command_line\n",
            "    utility.execute()\n",
            "  File \"/usr/local/lib/python3.10/dist-packages/django/core/management/__init__.py\", line 436, in execute\n",
            "    self.fetch_command(subcommand).run_from_argv(self.argv)\n",
            "  File \"/usr/local/lib/python3.10/dist-packages/django/core/management/base.py\", line 413, in run_from_argv\n",
            "    self.execute(*args, **cmd_options)\n",
            "  File \"/usr/local/lib/python3.10/dist-packages/django/core/management/base.py\", line 459, in execute\n",
            "    output = self.handle(*args, **options)\n",
            "  File \"/usr/local/lib/python3.10/dist-packages/django/core/management/commands/shell.py\", line 127, in handle\n",
            "    exec(sys.stdin.read(), globals())\n",
            "  File \"<string>\", line 1, in <module>\n",
            "  File \"/usr/local/lib/python3.10/dist-packages/django/contrib/auth/models.py\", line 172, in create_superuser\n",
            "    return self._create_user(username, email, password, **extra_fields)\n",
            "  File \"/usr/local/lib/python3.10/dist-packages/django/contrib/auth/models.py\", line 155, in _create_user\n",
            "    user.save(using=self._db)\n",
            "  File \"/usr/local/lib/python3.10/dist-packages/django/contrib/auth/base_user.py\", line 78, in save\n",
            "    super().save(*args, **kwargs)\n",
            "  File \"/usr/local/lib/python3.10/dist-packages/django/db/models/base.py\", line 822, in save\n",
            "    self.save_base(\n",
            "  File \"/usr/local/lib/python3.10/dist-packages/django/db/models/base.py\", line 909, in save_base\n",
            "    updated = self._save_table(\n",
            "  File \"/usr/local/lib/python3.10/dist-packages/django/db/models/base.py\", line 1071, in _save_table\n",
            "    results = self._do_insert(\n",
            "  File \"/usr/local/lib/python3.10/dist-packages/django/db/models/base.py\", line 1112, in _do_insert\n",
            "    return manager._insert(\n",
            "  File \"/usr/local/lib/python3.10/dist-packages/django/db/models/manager.py\", line 87, in manager_method\n",
            "    return getattr(self.get_queryset(), name)(*args, **kwargs)\n",
            "  File \"/usr/local/lib/python3.10/dist-packages/django/db/models/query.py\", line 1847, in _insert\n",
            "    return query.get_compiler(using=using).execute_sql(returning_fields)\n",
            "  File \"/usr/local/lib/python3.10/dist-packages/django/db/models/sql/compiler.py\", line 1823, in execute_sql\n",
            "    cursor.execute(sql, params)\n",
            "  File \"/usr/local/lib/python3.10/dist-packages/django/db/backends/utils.py\", line 122, in execute\n",
            "    return super().execute(sql, params)\n",
            "  File \"/usr/local/lib/python3.10/dist-packages/django/db/backends/utils.py\", line 79, in execute\n",
            "    return self._execute_with_wrappers(\n",
            "  File \"/usr/local/lib/python3.10/dist-packages/django/db/backends/utils.py\", line 92, in _execute_with_wrappers\n",
            "    return executor(sql, params, many, context)\n",
            "  File \"/usr/local/lib/python3.10/dist-packages/django/db/backends/utils.py\", line 100, in _execute\n",
            "    with self.db.wrap_database_errors:\n",
            "  File \"/usr/local/lib/python3.10/dist-packages/django/db/utils.py\", line 91, in __exit__\n",
            "    raise dj_exc_value.with_traceback(traceback) from exc_value\n",
            "  File \"/usr/local/lib/python3.10/dist-packages/django/db/backends/utils.py\", line 105, in _execute\n",
            "    return self.cursor.execute(sql, params)\n",
            "  File \"/usr/local/lib/python3.10/dist-packages/django/db/backends/sqlite3/base.py\", line 329, in execute\n",
            "    return super().execute(query, params)\n",
            "django.db.utils.OperationalError: no such table: auth_user\n"
          ]
        }
      ]
    },
    {
      "cell_type": "code",
      "source": [
        "public_url = ngrok.connect(8000)\n",
        "print(f\"Django server is accessible at {public_url}\")\n"
      ],
      "metadata": {
        "colab": {
          "base_uri": "https://localhost:8080/"
        },
        "id": "wV6wEph7EUei",
        "outputId": "17992999-5cbc-40c0-ce62-7d25f3752b5f"
      },
      "execution_count": 4,
      "outputs": [
        {
          "output_type": "stream",
          "name": "stdout",
          "text": [
            "Django server is accessible at NgrokTunnel: \"https://c742-35-233-149-199.ngrok-free.app\" -> \"http://localhost:8000\"\n"
          ]
        }
      ]
    },
    {
      "cell_type": "code",
      "source": [
        "# Open settings.py file\n",
        "with open('myproject/settings.py', 'a') as f:\n",
        "    f.write(\"\\nALLOWED_HOSTS = ['localhost', '127.0.0.1', 'c742-35-233-149-199.ngrok-free.app']\\n\")"
      ],
      "metadata": {
        "id": "-PKeGKnfKbPh"
      },
      "execution_count": 5,
      "outputs": []
    },
    {
      "cell_type": "code",
      "source": [
        "!python manage.py migrate\n"
      ],
      "metadata": {
        "colab": {
          "base_uri": "https://localhost:8080/"
        },
        "id": "qCnpI398KeUF",
        "outputId": "c53dcadf-005f-4bb0-de1e-5a7fac45a02e"
      },
      "execution_count": 6,
      "outputs": [
        {
          "output_type": "stream",
          "name": "stdout",
          "text": [
            "\u001b[36;1mOperations to perform:\u001b[0m\n",
            "\u001b[1m  Apply all migrations: \u001b[0madmin, auth, contenttypes, sessions\n",
            "\u001b[36;1mRunning migrations:\u001b[0m\n",
            "  Applying contenttypes.0001_initial...\u001b[32;1m OK\u001b[0m\n",
            "  Applying auth.0001_initial...\u001b[32;1m OK\u001b[0m\n",
            "  Applying admin.0001_initial...\u001b[32;1m OK\u001b[0m\n",
            "  Applying admin.0002_logentry_remove_auto_add...\u001b[32;1m OK\u001b[0m\n",
            "  Applying admin.0003_logentry_add_action_flag_choices...\u001b[32;1m OK\u001b[0m\n",
            "  Applying contenttypes.0002_remove_content_type_name...\u001b[32;1m OK\u001b[0m\n",
            "  Applying auth.0002_alter_permission_name_max_length...\u001b[32;1m OK\u001b[0m\n",
            "  Applying auth.0003_alter_user_email_max_length...\u001b[32;1m OK\u001b[0m\n",
            "  Applying auth.0004_alter_user_username_opts...\u001b[32;1m OK\u001b[0m\n",
            "  Applying auth.0005_alter_user_last_login_null...\u001b[32;1m OK\u001b[0m\n",
            "  Applying auth.0006_require_contenttypes_0002...\u001b[32;1m OK\u001b[0m\n",
            "  Applying auth.0007_alter_validators_add_error_messages...\u001b[32;1m OK\u001b[0m\n",
            "  Applying auth.0008_alter_user_username_max_length...\u001b[32;1m OK\u001b[0m\n",
            "  Applying auth.0009_alter_user_last_name_max_length...\u001b[32;1m OK\u001b[0m\n",
            "  Applying auth.0010_alter_group_name_max_length...\u001b[32;1m OK\u001b[0m\n",
            "  Applying auth.0011_update_proxy_permissions...\u001b[32;1m OK\u001b[0m\n",
            "  Applying auth.0012_alter_user_first_name_max_length...\u001b[32;1m OK\u001b[0m\n",
            "  Applying sessions.0001_initial...\u001b[32;1m OK\u001b[0m\n"
          ]
        }
      ]
    },
    {
      "cell_type": "code",
      "source": [
        "!python manage.py runserver 0.0.0.0:8000\n"
      ],
      "metadata": {
        "colab": {
          "base_uri": "https://localhost:8080/"
        },
        "id": "tCxwwIeXKia6",
        "outputId": "58edbcd9-33a8-4e2d-8eb4-77a34d0f8db7"
      },
      "execution_count": null,
      "outputs": [
        {
          "output_type": "stream",
          "name": "stdout",
          "text": [
            "Watching for file changes with StatReloader\n",
            "Performing system checks...\n",
            "\n",
            "System check identified no issues (0 silenced).\n",
            "June 26, 2024 - 06:13:03\n",
            "Django version 5.0.6, using settings 'myproject.settings'\n",
            "Starting development server at http://0.0.0.0:8000/\n",
            "Quit the server with CONTROL-C.\n",
            "\n",
            "[26/Jun/2024 06:13:09] \u001b[m\"GET / HTTP/1.1\" 200 10629\u001b[0m\n",
            "Not Found: /favicon.ico\n",
            "[26/Jun/2024 06:13:10] \u001b[33m\"GET /favicon.ico HTTP/1.1\" 404 2133\u001b[0m\n"
          ]
        }
      ]
    },
    {
      "cell_type": "markdown",
      "source": [
        "2iP8ZBEl2VpisE57zLtSYWUYObS_3UsSyxjKFcCyJy5zBHTyR"
      ],
      "metadata": {
        "id": "mc-FF9ykGtdS"
      }
    }
  ]
}